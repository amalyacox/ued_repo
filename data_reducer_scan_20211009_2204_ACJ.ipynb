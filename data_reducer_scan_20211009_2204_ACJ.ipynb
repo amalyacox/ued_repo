{
 "cells": [
  {
   "cell_type": "markdown",
   "id": "89f920d7",
   "metadata": {},
   "source": [
    "### Python Notebook for reducing raw data from SLAC MeV UED"
   ]
  },
  {
   "cell_type": "code",
   "execution_count": null,
   "id": "c2d2c0d9",
   "metadata": {},
   "outputs": [],
   "source": [
    "%load_ext autoreload\n",
    "%autoreload 2\n",
    "# Packages\n",
    "import numpy as np\n",
    "import matplotlib.pyplot as plt\n",
    "import matplotlib\n",
    "import sys\n",
    "\n",
    "sys.path.append('/cds/group/ued/scratch/jupyter_notebook_UED_solid_sample_codes/python_packages/')\n",
    "\n",
    "from ued_gas_phase_FY18_utilities import *\n",
    "\n",
    "from datetime import datetime\n",
    "from scipy.ndimage import median_filter \n",
    "import h5py\n",
    "\n",
    "\n",
    "import tqdm\n",
    "from tqdm import tnrange\n",
    "\n",
    "from skimage.filters import threshold_otsu, threshold_local\n",
    "import cv2\n",
    "\n",
    "from scipy.interpolate import interp2d, griddata\n",
    "from copy import deepcopy\n",
    "\n",
    "from scipy.optimize import fsolve\n",
    "\n",
    "from scipy.special import erfcx\n",
    "import scipy.optimize as opt\n",
    "\n",
    "from mpl_toolkits import mplot3d\n",
    "\n",
    "from skimage.morphology import erosion, dilation, opening, closing, white_tophat\n",
    "from skimage.morphology import disk, rectangle\n",
    "from skimage.transform import AffineTransform, warp\n",
    "\n",
    "from skimage.registration import phase_cross_correlation"
   ]
  },
  {
   "cell_type": "code",
   "execution_count": null,
   "id": "0167da47",
   "metadata": {},
   "outputs": [],
   "source": [
    "from scipy import ndimage"
   ]
  },
  {
   "cell_type": "code",
   "execution_count": null,
   "id": "7250e1c7",
   "metadata": {},
   "outputs": [],
   "source": [
    "# plotting parameters\n",
    "default_text_size=15\n",
    "font_times = {'family':'Arial'}\n",
    "\n",
    "plt.rc('font', size=default_text_size)          # controls default text sizes\n",
    "plt.rc('axes', titlesize=default_text_size)     # fontsize of the axes title\n",
    "plt.rc('axes', labelsize=default_text_size)    # fontsize of the x and y labels\n",
    "plt.rc('xtick', labelsize=default_text_size)    # fontsize of the tick labels\n",
    "plt.rc('ytick', labelsize=default_text_size)    # fontsize of the tick labels\n",
    "plt.rc('figure', titlesize=default_text_size)  # fontsize of the figure title\n",
    "plt.rc('font', **font_times)\n",
    "plt.rc('figure', figsize=(8,6))\n",
    "plt.rc('legend', fontsize=15, frameon=False)\n",
    "plt.rc('lines', linewidth=2)\n",
    "lw = 2 #default line width\n",
    "ms = 15\n",
    "plt.rcParams.update({'figure.max_open_warning': 0})\n",
    "\n",
    "prop_cycle = plt.rcParams['axes.prop_cycle']\n",
    "colors = prop_cycle.by_key()['color']"
   ]
  },
  {
   "cell_type": "markdown",
   "id": "e2b27c16",
   "metadata": {},
   "source": [
    "## Read in data "
   ]
  },
  {
   "cell_type": "code",
   "execution_count": null,
   "id": "d7083bc2",
   "metadata": {},
   "outputs": [],
   "source": [
    "path_df = '/cds/group/ued/data/ueduu8503/screening/20211005/Run/20211005_1759/'"
   ]
  },
  {
   "cell_type": "code",
   "execution_count": null,
   "id": "ad43f3b5",
   "metadata": {},
   "outputs": [],
   "source": [
    "# Image dimensions\n",
    "num_row = 1024\n",
    "num_col = 1024\n",
    "\n",
    "file_list_df = get_diffraction_file_list(path_df, keyword='ANDOR1*tif')\n",
    "\n",
    "# file_list_df = file_list_df[0:100]\n",
    "\n",
    "num_image_df = len(file_list_df)\n",
    "\n",
    "print('Number of diffraction images: %d'%(num_image_df))\n",
    "img_set = assign_shared_memory((num_image_df, num_row, num_col))\n",
    "scan_num = assign_shared_memory((num_image_df,))\n",
    "delay =  assign_shared_memory((num_image_df,))\n",
    "\n",
    "# Read diffraction data\n",
    "read_diffraction_data_sharedarray(file_list_df, img_set, scan_num, delay)\n"
   ]
  },
  {
   "cell_type": "markdown",
   "id": "e5de83a1",
   "metadata": {},
   "source": [
    "## subtract camera background "
   ]
  },
  {
   "cell_type": "code",
   "execution_count": null,
   "id": "b3cee4bf",
   "metadata": {
    "scrolled": false
   },
   "outputs": [],
   "source": [
    "width_1 = 30\n",
    "width_2 = 15\n",
    "bg_slice_1 = np.s_[0:width_1, 0:width_1]\n",
    "bg_slice_2 = np.s_[1024-width_1:1024, 0:width_1]\n",
    "bg_slice_3 = np.s_[0:width_2, 1024-width_2:1024]\n",
    "bg_slice_4 = np.s_[1024-width_2:1024, 1024-width_2:1024]\n",
    "\n",
    "bg_slice_set = [bg_slice_1, bg_slice_2, bg_slice_3, bg_slice_4]\n",
    "\n",
    "tttt = np.ones(img_set[0,:,:].shape)\n",
    "tttt[bg_slice_1] = np.nan\n",
    "tttt[bg_slice_2] = np.nan\n",
    "tttt[bg_slice_3] = np.nan\n",
    "tttt[bg_slice_4] = np.nan\n",
    "\n",
    "img_temp = img_set[34,:,:]\n",
    "plt.figure()\n",
    "for ind, bg in enumerate(bg_slice_set):\n",
    "    ct, bins = np.histogram(np.ndarray.flatten(img_temp[bg]), bins=20, normed=True)\n",
    "    plt.plot(bins[1:], ct, label='Bg slice %d'%(ind+1))\n",
    "plt.legend()\n",
    "plt.xlabel('Intensity (arb. u.)')\n",
    "plt.ylabel('Frequency (arb. u.)')\n",
    "\n",
    "    \n",
    "plt.figure(figsize=(8,8))\n",
    "plt.subplot(2,2,1)\n",
    "plt.imshow(img_temp[bg_slice_1])\n",
    "plt.clim([400, 1000])\n",
    "plt.title('Bg slice 1')\n",
    "\n",
    "plt.subplot(2,2,2)\n",
    "plt.imshow(img_temp[bg_slice_2])\n",
    "plt.clim([400, 1000])\n",
    "plt.title('Bg slice 2')\n",
    "\n",
    "plt.subplot(2,2,3)\n",
    "plt.imshow(img_temp[bg_slice_3])\n",
    "plt.clim([400, 1000])\n",
    "plt.title('Bg slice 3')\n",
    "\n",
    "plt.subplot(2,2,4)\n",
    "plt.imshow(img_temp[bg_slice_4])\n",
    "plt.clim([400, 1000])\n",
    "plt.title('Bg slice 4')\n",
    "\n",
    "plt.figure(figsize=(10, 5))\n",
    "plt.imshow(img_set[0,:,:]*tttt)\n",
    "plt.clim([600, 1000])\n",
    "plt.colorbar()\n"
   ]
  },
  {
   "cell_type": "markdown",
   "id": "08546fd5",
   "metadata": {},
   "source": [
    "### center mask "
   ]
  },
  {
   "cell_type": "code",
   "execution_count": null,
   "id": "d7b9a7b0",
   "metadata": {},
   "outputs": [],
   "source": [
    "ndimage.measurements.center_of_mass(img_temp)"
   ]
  },
  {
   "cell_type": "code",
   "execution_count": null,
   "id": "297c8381",
   "metadata": {
    "scrolled": false
   },
   "outputs": [],
   "source": [
    "cm_x = 519 #center of mass x and y \n",
    "cm_y = 523\n",
    "# cm = 1-gen_circular_mask(cm_x, cm_y, 187, num_col, num_row)\n",
    "mask_hole =  1-gen_circular_mask(cm_x, cm_y, 46, 1024, 1024)\n",
    "mask_hole[mask_hole<1] = np.nan\n",
    "\n",
    "plt.figure()\n",
    "plt.subplot(1,2,1)\n",
    "plt.imshow(np.log(img_set[0,:,:]))\n",
    "plt.clim([4, 9])\n",
    "plt.title('Raw')\n",
    "plt.subplot(1,2,2)\n",
    "plt.imshow(np.log(img_set[0,:,:])*mask_hole)\n",
    "# plt.colorbar()\n",
    "plt.clim([4, 9])\n",
    "plt.title('With mask')"
   ]
  },
  {
   "cell_type": "code",
   "execution_count": null,
   "id": "fb2e68f0",
   "metadata": {},
   "outputs": [],
   "source": [
    "bg_set = np.zeros((num_image_df,1))\n",
    "inten_set = np.zeros((num_image_df,1))\n",
    "for ind_img in tnrange(num_image_df):\n",
    "    img_temp = img_set[ind_img,:,:]\n",
    "    temp = np.concatenate((img_temp[bg_slice_1].flatten(), img_temp[bg_slice_2].flatten()))\n",
    "    bg_set[ind_img] = np.median(temp)\n",
    "    img_set[ind_img,:,:] = img_set[ind_img,:,:] - bg_set[ind_img]\n",
    "    inten_set[ind_img] = np.nansum(img_set[ind_img,:,:]*mask_hole)\n",
    "\n"
   ]
  },
  {
   "cell_type": "code",
   "execution_count": null,
   "id": "02dc1d55",
   "metadata": {
    "scrolled": false
   },
   "outputs": [],
   "source": [
    "plt.figure(figsize=(8,6))\n",
    "plt.plot(bg_set, 'r-o')\n",
    "plt.xlabel('Image #')\n",
    "plt.ylabel('Median count within bg windwon (arb. u.)')\n",
    "\n",
    "plt.figure(figsize=(8,6))\n",
    "plt.plot(inten_set, 'r-', label=f'rms={np.std(inten_set)/np.mean(inten_set)*100:.2f}%')\n",
    "plt.xlabel('Image #')\n",
    "plt.ylabel('Total intensity (arb. u.)')\n",
    "plt.legend()\n"
   ]
  },
  {
   "cell_type": "markdown",
   "id": "c2cd35b7",
   "metadata": {},
   "source": [
    "## Align images "
   ]
  },
  {
   "cell_type": "markdown",
   "id": "9fc114df",
   "metadata": {},
   "source": [
    "#### Affine Transform :\n",
    "skimage.transform.AffineTransform \\\n",
    "form: \\\n",
    "X = a0 * x + a1 * y + a2 = sx * x * cos(rotation) - sy * y * sin(rotation + shear) + a2 \\\n",
    "Y = b0 * x + b1 * y + b2 = sx * x * cos(rotation) - sy * y * sin(rotation + shear) + b2 \\\n",
    "sx and sy are scale factors in x & y directions \\ \n",
    "homogenous tranformation matrix is: [[a0 a1 a2]\n",
    "[b0 b1 b2] [0 0 1]]\n",
    "\n",
    "### Phase cross-correlation \n",
    "Used to identify the relative shift between two similar-sized images \\\n",
    "Obtains an initial estimate of the cross-correlation peak by an FFT and then refines the shift estimation by upsampling the DFT only in a small neighborhood of that estimate by means of a matrix-multiply DFT\n",
    "\n",
    "params: **reference image**, **moving image (image to register)**, **upsample factor**: (int, optional) images will be registered to within 1 / upsample_factor of a pixel \n",
    "upsample factor = 100 means images will be registered with 1/100th of a pixel, **space**='real' or 'fourier' real: data will be FFT'd to compute the correlation \n",
    "\n",
    "returns: **shifts**: (ndarray) shift vector (in pixels) required to register moving image with reference image, **error** translation invariant normalized RMS error between ref image and moving image, **phasediff** global phase difference between 2 images\n",
    "\n",
    "### Warp\n",
    "Warp an image according to a given coord transformation\n",
    "params: **image**, **inverse_map** a transofrmation object, callable cr = f(cr, ** kwargs ** ), ndarray; inverse coordinate map, which transforms coords in teh output images into corresponding coords in the input image **mode**: 'wrap': pad an array with the wrap of the vector along the axis. the first values are used to pad the end and the end values are used to pad the beginning "
   ]
  },
  {
   "cell_type": "code",
   "execution_count": null,
   "id": "a89c6491",
   "metadata": {},
   "outputs": [],
   "source": [
    "from scipy.ndimage import median_filter\n",
    "from skimage.transform import AffineTransform, warp\n",
    "\n",
    "index_slice_row = slice(470, 530) # choosing the two points to look at \n",
    "index_slice_col = slice(290, 360) # choosing the two points to look at\n",
    "\n",
    "plt.figure()\n",
    "plt.subplot(1,2,1)\n",
    "plt.imshow(np.log(img_set[0]))\n",
    "plt.title('Full image')\n",
    "plt.subplot(1,2,2)\n",
    "plt.imshow(np.log(img_set[0,index_slice_row, index_slice_col]))\n",
    "plt.title('ROI for cross-correlation')\n",
    "\n",
    "filter_size = [9, 9]\n",
    "img_temp0 = median_filter(img_set[0,index_slice_row, index_slice_col], filter_size) # looking at these points again\n",
    "img_temp = median_filter(img_set[10,index_slice_row, index_slice_col], filter_size) # 9x9 region, first and 10th image\n",
    "\n",
    "plt.figure()\n",
    "plt.subplot(1,2,1)\n",
    "plt.imshow(img_temp0)\n",
    "plt.subplot(1,2,2)\n",
    "plt.imshow(img_temp)"
   ]
  },
  {
   "cell_type": "code",
   "execution_count": null,
   "id": "7b38f285",
   "metadata": {
    "scrolled": true
   },
   "outputs": [],
   "source": [
    "shift_set = []\n",
    "img_set_aligned = []\n",
    "img_set_aligned.append(img_set[0,:,:])\n",
    "\n",
    "# for ind in tnrange(1):\n",
    "for ind in tnrange(img_set.shape[0]-1): #range one less than full set, we are aligning to the first image \n",
    "    img_temp = median_filter(img_set[ind+1, index_slice_row, index_slice_col], filter_size)\n",
    "    shift_filtered, error, diffphase = phase_cross_correlation(img_temp, img_temp0, upsample_factor=100, space='real')\n",
    "    shift_set.append(shift_filtered)\n",
    "    transform = AffineTransform(translation=shift_filtered[::-1]) #reversing the order \n",
    "    img_set_aligned.append( warp(img_set[ind+1,:,:], transform, mode='wrap', preserve_range=True) )\n",
    "\n",
    "shift_set = np.array(shift_set)"
   ]
  },
  {
   "cell_type": "code",
   "execution_count": null,
   "id": "060d5d81",
   "metadata": {},
   "outputs": [],
   "source": [
    "img_set_aligned = np.array(img_set_aligned)"
   ]
  },
  {
   "cell_type": "code",
   "execution_count": null,
   "id": "1a3d17c0",
   "metadata": {
    "scrolled": false
   },
   "outputs": [],
   "source": [
    "plt.figure()\n",
    "plt.imshow(np.log(np.mean(img_set_aligned, axis=0)))\n",
    "plt.title('Shift corrected')\n",
    "\n",
    "plt.figure()\n",
    "plt.imshow(np.log(np.mean(img_set, axis=0)))\n",
    "plt.title('Raw')\n",
    "\n",
    "plt.figure()\n",
    "plt.imshow((np.mean(img_set, axis=0)-np.mean(img_set_aligned, axis=0)))\n",
    "plt.title('Raw-shift_corrected')\n",
    "plt.clim([-100, 100])\n",
    "\n",
    "\n",
    "plt.figure()\n",
    "plt.plot(shift_set[:,0], shift_set[:,1], 'o')\n",
    "plt.xlabel('Shift y (px)')\n",
    "plt.ylabel('Shift x (px)')\n",
    "\n",
    "plt.figure()\n",
    "plt.plot(shift_set[:,1], label='shift x')\n",
    "plt.plot(shift_set[:,0], label='shift y')\n",
    "plt.ylabel('Shift (px)')\n",
    "plt.legend()"
   ]
  },
  {
   "cell_type": "code",
   "execution_count": null,
   "id": "d167c2c4",
   "metadata": {},
   "outputs": [],
   "source": [
    "path_df"
   ]
  },
  {
   "cell_type": "code",
   "execution_count": null,
   "id": "b92caa18",
   "metadata": {},
   "outputs": [],
   "source": [
    "#import h5py \n",
    "hf = h5py.File('/cds/group/ued/scratch/ueduu8503/reduced_data/ued8503_20211005_1759.h5', 'w') \n",
    "hf.create_dataset('Data_description', data='Time scan of sample E1 MoS2/WS2_4.8deg 660nm pump 200um e-beam size ~2mJ/cm2 RT')\n",
    "hf.create_dataset('Folder', data=path_df)\n",
    "hf.create_dataset('scan_num', data=scan_num)\n",
    "hf.create_dataset('delay', data=delay)\n",
    "hf.create_dataset('img_set_aligned', data=img_set_aligned)\n",
    "hf.create_dataset('shift_set', data=shift_set)\n",
    "hf.create_dataset('inten_set', data=inten_set)\n",
    "#hf.create_dataset('index_slice_col', data=index_slice_col) #gives error\n",
    "#hf.create_dataset('index_slice_row', data=index_slice_row) #gives error\n",
    "hf.create_dataset('filter_size', data=filter_size)\n",
    "#hf.create_dataset('bg_slice_set', data=bg_slice_set) #gives error \n",
    "hf.create_dataset('bg_set', data=bg_set)\n",
    "hf.close()"
   ]
  }
 ],
 "metadata": {
  "kernelspec": {
   "display_name": "LCLS-II py3",
   "language": "python",
   "name": "ana2-current"
  },
  "language_info": {
   "codemirror_mode": {
    "name": "ipython",
    "version": 3
   },
   "file_extension": ".py",
   "mimetype": "text/x-python",
   "name": "python",
   "nbconvert_exporter": "python",
   "pygments_lexer": "ipython3",
   "version": "3.7.12"
  }
 },
 "nbformat": 4,
 "nbformat_minor": 5
}
